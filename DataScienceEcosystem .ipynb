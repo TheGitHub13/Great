{
 "cells": [
  {
   "cell_type": "markdown",
   "id": "91bc41e6",
   "metadata": {},
   "source": [
    "<h1> Data Science Tools and Ecosystem <h1/>"
   ]
  },
  {
   "cell_type": "markdown",
   "id": "6d78877e",
   "metadata": {},
   "source": [
    "In this notebook, Data Science Tools and Ecosystem are summarized "
   ]
  },
  {
   "cell_type": "markdown",
   "id": "37b8031d",
   "metadata": {},
   "source": [
    "Some of the popular languages that Data Scientists use are:\n",
    "1. Python \n",
    "2. Julia \n",
    "3. R "
   ]
  },
  {
   "cell_type": "markdown",
   "id": "7b061d7a",
   "metadata": {},
   "source": [
    "Some of the commonly used libraries used by Data Scientists include:\n",
    "1. gglot2\n",
    "2. NumPy\n",
    "3. Pandas\n",
    "4. TensorFlow "
   ]
  },
  {
   "cell_type": "markdown",
   "id": "11277499",
   "metadata": {},
   "source": [
    "|Data Science Tools|\n",
    "|-----------------|\n",
    "|Apache Spark|\n",
    "|Jupyter Notebook|\n",
    "|Matplotlib|"
   ]
  },
  {
   "cell_type": "markdown",
   "id": "be8fa4ee",
   "metadata": {},
   "source": [
    "<h3> Below are a few exmaples of evaluating arithmetic expressions in Pyton </h3>"
   ]
  },
  {
   "cell_type": "code",
   "execution_count": 4,
   "id": "419f64e5",
   "metadata": {},
   "outputs": [
    {
     "data": {
      "text/plain": [
       "17"
      ]
     },
     "execution_count": 4,
     "metadata": {},
     "output_type": "execute_result"
    }
   ],
   "source": [
    "#This is a simple arithmetic expression to multiply then add integers \n",
    "(3*4) + 5\n"
   ]
  },
  {
   "cell_type": "code",
   "execution_count": 5,
   "id": "a6b03708",
   "metadata": {},
   "outputs": [
    {
     "data": {
      "text/plain": [
       "3.3333333333333335"
      ]
     },
     "execution_count": 5,
     "metadata": {},
     "output_type": "execute_result"
    }
   ],
   "source": [
    "#This will convert 200 minutes to hours by dividing by 60 \n",
    "200/60"
   ]
  },
  {
   "cell_type": "markdown",
   "id": "97bf0580",
   "metadata": {},
   "source": [
    "<b> Objectives </b>\n",
    "* List popular languages for Data Science \n",
    "* List popular data science libraries\n",
    "* Make a table of data science tools \n",
    "* Create an arithmetic expression "
   ]
  },
  {
   "cell_type": "markdown",
   "id": "0fa21419",
   "metadata": {},
   "source": [
    "<h2> Author </h2>\n",
    "Noel "
   ]
  },
  {
   "cell_type": "code",
   "execution_count": null,
   "id": "41378858",
   "metadata": {},
   "outputs": [],
   "source": []
  }
 ],
 "metadata": {
  "kernelspec": {
   "display_name": "Python 3 (ipykernel)",
   "language": "python",
   "name": "python3"
  },
  "language_info": {
   "codemirror_mode": {
    "name": "ipython",
    "version": 3
   },
   "file_extension": ".py",
   "mimetype": "text/x-python",
   "name": "python",
   "nbconvert_exporter": "python",
   "pygments_lexer": "ipython3",
   "version": "3.11.4"
  }
 },
 "nbformat": 4,
 "nbformat_minor": 5
}
